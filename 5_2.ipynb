{
  "nbformat": 4,
  "nbformat_minor": 0,
  "metadata": {
    "colab": {
      "name": "5-2.ipynb",
      "provenance": [],
      "collapsed_sections": [],
      "authorship_tag": "ABX9TyMifPLZbhnVQLzTGhvHphou",
      "include_colab_link": true
    },
    "kernelspec": {
      "name": "python3",
      "display_name": "Python 3"
    }
  },
  "cells": [
    {
      "cell_type": "markdown",
      "metadata": {
        "id": "view-in-github",
        "colab_type": "text"
      },
      "source": [
        "<a href=\"https://colab.research.google.com/github/shane90485/test/blob/main/5_2.ipynb\" target=\"_parent\"><img src=\"https://colab.research.google.com/assets/colab-badge.svg\" alt=\"Open In Colab\"/></a>"
      ]
    },
    {
      "cell_type": "code",
      "metadata": {
        "colab": {
          "base_uri": "https://localhost:8080/"
        },
        "id": "cv2zky4JOPKc",
        "outputId": "75152849-21a2-4b71-ac7b-411dd93ffbe0"
      },
      "source": [
        "from google.colab import drive\r\n",
        "drive.mount(\"/content/drive\")\r\n",
        "\r\n",
        "import os\r\n",
        "os.listdir(\"/content/drive/My Drive\")\r\n",
        "import pandas as pd\r\n",
        "\r\n",
        "df = pd.read_csv(\"/content/drive/My Drive/Colab Notebooks/diabetes.csv\")\r\n",
        "\r\n",
        "print(df.head())\r\n",
        "\r\n"
      ],
      "execution_count": null,
      "outputs": [
        {
          "output_type": "stream",
          "text": [
            "Drive already mounted at /content/drive; to attempt to forcibly remount, call drive.mount(\"/content/drive\", force_remount=True).\n",
            "   Pregnancies  Glucose  BloodPressure  ...  DiabetesPedigreeFunction  Age  Outcome\n",
            "0            6      148             72  ...                     0.627   50        1\n",
            "1            1       85             66  ...                     0.351   31        0\n",
            "2            8      183             64  ...                     0.672   32        1\n",
            "3            1       89             66  ...                     0.167   21        0\n",
            "4            0      137             40  ...                     2.288   33        1\n",
            "\n",
            "[5 rows x 9 columns]\n"
          ],
          "name": "stdout"
        }
      ]
    },
    {
      "cell_type": "code",
      "metadata": {
        "id": "HfV4jtQaA_7L"
      },
      "source": [
        "import numpy as np\r\n",
        "import pandas as pd\r\n",
        "from keras.models import Sequential\r\n",
        "from keras.layers import Dense\r\n",
        "from keras.utils import to_categorical\r\n",
        "\r\n",
        "np.random.seed(10)  # 指定亂數種子\r\n",
        "# 載入糖尿病資料集\r\n",
        "df = pd.read_csv(\"/content/drive/My Drive/Colab Notebooks/diabetes.csv\")\r\n",
        "dataset = df.values\r\n",
        "np.random.shuffle(dataset)  # 使用亂數打亂資料\r\n",
        "# 分割成特徵資料和標籤資料\r\n",
        "X = dataset[:, 0:8]\r\n",
        "Y = dataset[:, 8]\r\n",
        "# 特徵標準化\r\n",
        "X -= X.mean(axis=0)\r\n",
        "X /= X.std(axis=0)\r\n",
        "# One-hot編碼\r\n",
        "Y = to_categorical(Y)\r\n",
        "# 分割訓練和測試資料集\r\n",
        "X_train, Y_train = X[:690], Y[:690]     # 訓練資料前690筆\r\n",
        "X_test, Y_test = X[690:], Y[690:]       # 測試資料後78筆"
      ],
      "execution_count": 32,
      "outputs": []
    },
    {
      "cell_type": "code",
      "metadata": {
        "colab": {
          "base_uri": "https://localhost:8080/"
        },
        "id": "zWfJ9kAcDEZA",
        "outputId": "6d750367-0ae6-497e-e383-6bdb0de9196a"
      },
      "source": [
        "# 定義模型\r\n",
        "model = Sequential()\r\n",
        "model.add(Dense(8, input_shape=(8,), activation=\"relu\"))\r\n",
        "model.add(Dense(8, activation=\"relu\"))\r\n",
        "model.add(Dense(2, activation=\"softmax\"))\r\n",
        "model.summary()   # 顯示模型摘要資訊"
      ],
      "execution_count": 33,
      "outputs": [
        {
          "output_type": "stream",
          "text": [
            "Model: \"sequential_3\"\n",
            "_________________________________________________________________\n",
            "Layer (type)                 Output Shape              Param #   \n",
            "=================================================================\n",
            "dense_6 (Dense)              (None, 8)                 72        \n",
            "_________________________________________________________________\n",
            "dense_7 (Dense)              (None, 8)                 72        \n",
            "_________________________________________________________________\n",
            "dense_8 (Dense)              (None, 2)                 18        \n",
            "=================================================================\n",
            "Total params: 162\n",
            "Trainable params: 162\n",
            "Non-trainable params: 0\n",
            "_________________________________________________________________\n"
          ],
          "name": "stdout"
        }
      ]
    },
    {
      "cell_type": "code",
      "metadata": {
        "colab": {
          "base_uri": "https://localhost:8080/"
        },
        "id": "cphMXyDeBf3B",
        "outputId": "f1257074-7f59-4c87-a2ce-c624d690e822"
      },
      "source": [
        "# 編譯模型\r\n",
        "model.compile(loss=\"binary_crossentropy\", optimizer=\"adam\", \r\n",
        "              metrics=[\"accuracy\"])\r\n",
        "\r\n",
        "\r\n",
        "# 訓練模型\r\n",
        "history = model.fit(X_train, Y_train, validation_split=0.2, \r\n",
        "          epochs=15, batch_size=10)\r\n",
        "\r\n",
        "\r\n"
      ],
      "execution_count": 34,
      "outputs": [
        {
          "output_type": "stream",
          "text": [
            "Epoch 1/15\n",
            "56/56 [==============================] - 1s 4ms/step - loss: 0.7871 - accuracy: 0.3466 - val_loss: 0.7154 - val_accuracy: 0.3986\n",
            "Epoch 2/15\n",
            "56/56 [==============================] - 0s 2ms/step - loss: 0.7105 - accuracy: 0.4534 - val_loss: 0.6791 - val_accuracy: 0.5507\n",
            "Epoch 3/15\n",
            "56/56 [==============================] - 0s 2ms/step - loss: 0.6880 - accuracy: 0.6096 - val_loss: 0.6575 - val_accuracy: 0.6739\n",
            "Epoch 4/15\n",
            "56/56 [==============================] - 0s 2ms/step - loss: 0.6646 - accuracy: 0.7077 - val_loss: 0.6397 - val_accuracy: 0.7246\n",
            "Epoch 5/15\n",
            "56/56 [==============================] - 0s 2ms/step - loss: 0.6466 - accuracy: 0.7146 - val_loss: 0.6194 - val_accuracy: 0.7246\n",
            "Epoch 6/15\n",
            "56/56 [==============================] - 0s 2ms/step - loss: 0.6155 - accuracy: 0.7375 - val_loss: 0.5915 - val_accuracy: 0.7319\n",
            "Epoch 7/15\n",
            "56/56 [==============================] - 0s 2ms/step - loss: 0.5910 - accuracy: 0.7353 - val_loss: 0.5597 - val_accuracy: 0.7464\n",
            "Epoch 8/15\n",
            "56/56 [==============================] - 0s 2ms/step - loss: 0.5682 - accuracy: 0.7224 - val_loss: 0.5262 - val_accuracy: 0.7609\n",
            "Epoch 9/15\n",
            "56/56 [==============================] - 0s 2ms/step - loss: 0.5525 - accuracy: 0.7028 - val_loss: 0.5004 - val_accuracy: 0.7754\n",
            "Epoch 10/15\n",
            "56/56 [==============================] - 0s 2ms/step - loss: 0.5199 - accuracy: 0.7405 - val_loss: 0.4806 - val_accuracy: 0.7681\n",
            "Epoch 11/15\n",
            "56/56 [==============================] - 0s 2ms/step - loss: 0.4816 - accuracy: 0.7610 - val_loss: 0.4669 - val_accuracy: 0.7754\n",
            "Epoch 12/15\n",
            "56/56 [==============================] - 0s 2ms/step - loss: 0.5081 - accuracy: 0.7408 - val_loss: 0.4552 - val_accuracy: 0.7754\n",
            "Epoch 13/15\n",
            "56/56 [==============================] - 0s 2ms/step - loss: 0.4995 - accuracy: 0.7586 - val_loss: 0.4510 - val_accuracy: 0.7826\n",
            "Epoch 14/15\n",
            "56/56 [==============================] - 0s 2ms/step - loss: 0.5223 - accuracy: 0.7529 - val_loss: 0.4460 - val_accuracy: 0.7826\n",
            "Epoch 15/15\n",
            "56/56 [==============================] - 0s 2ms/step - loss: 0.4818 - accuracy: 0.7684 - val_loss: 0.4396 - val_accuracy: 0.7826\n"
          ],
          "name": "stdout"
        }
      ]
    },
    {
      "cell_type": "code",
      "metadata": {
        "colab": {
          "base_uri": "https://localhost:8080/"
        },
        "id": "DdMSd6j-D2rr",
        "outputId": "a17bb555-0f59-4788-8503-308939bcccd3"
      },
      "source": [
        "loss, accuracy = model.evaluate(X_train, Y_train)\r\n",
        "print(\"測試資料集的準確度 = {:.2f}\".format(accuracy))\r\n",
        "loss, accuracy = model.evaluate(X_test, Y_test)\r\n",
        "print(\"測試資料集的準確度 = {:.2f}\".format(accuracy))"
      ],
      "execution_count": 35,
      "outputs": [
        {
          "output_type": "stream",
          "text": [
            "22/22 [==============================] - 0s 922us/step - loss: 0.4620 - accuracy: 0.7812\n",
            "測試資料集的準確度 = 0.78\n",
            "3/3 [==============================] - 0s 2ms/step - loss: 0.5576 - accuracy: 0.7051\n",
            "測試資料集的準確度 = 0.71\n"
          ],
          "name": "stdout"
        }
      ]
    },
    {
      "cell_type": "code",
      "metadata": {
        "colab": {
          "base_uri": "https://localhost:8080/"
        },
        "id": "uL5hOppxCn_r",
        "outputId": "faf21e7a-b8c8-4a89-e82e-b7aa7e013a18"
      },
      "source": [
        "# 測試資料集的預測值\r\n",
        "predict_values = model.predict(X_test, batch_size=10, verbose=0)\r\n",
        "print(predict_values[0])"
      ],
      "execution_count": 36,
      "outputs": [
        {
          "output_type": "stream",
          "text": [
            "[0.9930964  0.00690364]\n"
          ],
          "name": "stdout"
        }
      ]
    },
    {
      "cell_type": "code",
      "metadata": {
        "colab": {
          "base_uri": "https://localhost:8080/",
          "height": 295
        },
        "id": "n4aDZx9PEuM-",
        "outputId": "f77bc576-00e9-42d4-e3cd-dfe97405f280"
      },
      "source": [
        "# 顯示訓練和驗證損失圖表\r\n",
        "import matplotlib.pyplot as plt\r\n",
        "\r\n",
        "loss = history.history[\"loss\"]\r\n",
        "epochs = range(1, len(loss)+1)\r\n",
        "val_loss = history.history[\"val_loss\"]\r\n",
        "plt.plot(epochs, loss, \"bo\", label=\"Training Loss\")\r\n",
        "plt.plot(epochs, val_loss, \"r\", label=\"Validation Loss\")\r\n",
        "plt.title(\"Training and Validation Loss\")\r\n",
        "plt.xlabel(\"Epochs\")\r\n",
        "plt.ylabel(\"Loss\")\r\n",
        "plt.legend()\r\n",
        "plt.show()"
      ],
      "execution_count": 37,
      "outputs": [
        {
          "output_type": "display_data",
          "data": {
            "image/png": "[encoded data removed]",
            "text/plain": [
              "<Figure size 432x288 with 1 Axes>"
            ]
          },
          "metadata": {
            "tags": [],
            "needs_background": "light"
          }
        }
      ]
    },
    {
      "cell_type": "code",
      "metadata": {
        "colab": {
          "base_uri": "https://localhost:8080/",
          "height": 295
        },
        "id": "5kqTHdooFP-9",
        "outputId": "e1d0b1b6-bcbb-454d-827e-89ff57d7d521"
      },
      "source": [
        "# 顯示訓練和驗證準確度\r\n",
        "acc = history.history[\"accuracy\"]\r\n",
        "epochs = range(1, len(acc)+1)\r\n",
        "val_acc = history.history[\"val_accuracy\"]\r\n",
        "plt.plot(epochs, acc, \"b-\", label=\"Training Acc\")\r\n",
        "plt.plot(epochs, val_acc, \"r--\", label=\"Validation Acc\")\r\n",
        "plt.title(\"Training and Validation Accuracy\")\r\n",
        "plt.xlabel(\"Epochs\")\r\n",
        "plt.ylabel(\"Accuracy\")\r\n",
        "plt.legend()\r\n",
        "plt.show()\r\n",
        "\r\n"
      ],
      "execution_count": 38,
      "outputs": [
        {
          "output_type": "display_data",
          "data": {
            "image/png": "[encoded data removed]",
            "text/plain": [
              "<Figure size 432x288 with 1 Axes>"
            ]
          },
          "metadata": {
            "tags": [],
            "needs_background": "light"
          }
        }
      ]
    }
  ]
}